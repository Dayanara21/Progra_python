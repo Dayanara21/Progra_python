{
  "nbformat": 4,
  "nbformat_minor": 0,
  "metadata": {
    "colab": {
      "provenance": []
    },
    "kernelspec": {
      "name": "python3",
      "display_name": "Python 3"
    },
    "language_info": {
      "name": "python"
    }
  },
  "cells": [
    {
      "cell_type": "code",
      "source": [
        "import pickle\n",
        "\n",
        "class ObjetoSerializable:\n",
        "    def __init__(self, valor):\n",
        "        self.valor = valor\n",
        "\n",
        "def serializar_objeto(obj, archivo_pickle):\n",
        "    with open(archivo_pickle, 'wb') as f:\n",
        "        pickle.dump(obj, f)\n",
        "\n",
        "def deserializar_objeto(archivo_pickle):\n",
        "    with open(archivo_pickle, 'rb') as f:\n",
        "        obj = pickle.load(f)\n",
        "    return obj\n",
        "\n",
        "# Crear un objeto\n",
        "obj = ObjetoSerializable(42)\n",
        "\n",
        "# Serializar el objeto\n",
        "archivo_pickle = \"objeto.pickle\"\n",
        "serializar_objeto(obj, archivo_pickle)\n",
        "\n",
        "# Deserializar el objeto\n",
        "obj_deserializado = deserializar_objeto(archivo_pickle)\n",
        "\n",
        "# Verificar que el objeto original y el deserializado sean iguales\n",
        "print(obj.valor == obj_deserializado.valor) # Debería imprimir True"
      ],
      "metadata": {
        "colab": {
          "base_uri": "https://localhost:8080/"
        },
        "id": "mQFuh6eZjPB6",
        "outputId": "dc9de90b-01f7-4f0c-fa96-2dabf46b7c97"
      },
      "execution_count": 2,
      "outputs": [
        {
          "output_type": "stream",
          "name": "stdout",
          "text": [
            "True\n"
          ]
        }
      ]
    }
  ]
}