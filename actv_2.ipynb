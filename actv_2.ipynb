{
  "nbformat": 4,
  "nbformat_minor": 0,
  "metadata": {
    "colab": {
      "provenance": []
    },
    "kernelspec": {
      "name": "python3",
      "display_name": "Python 3"
    },
    "language_info": {
      "name": "python"
    }
  },
  "cells": [
    {
      "cell_type": "code",
      "execution_count": null,
      "metadata": {
        "colab": {
          "base_uri": "https://localhost:8080/"
        },
        "id": "I7Moelxo2y4R",
        "outputId": "dec30029-1cb7-4be9-b06e-8f37c0d94d9f"
      },
      "outputs": [
        {
          "output_type": "stream",
          "name": "stdout",
          "text": [
            "Título:  La vida invisible de Addie la Rue\n",
            "Autor:  V.E. Schwab\n",
            "Año de publicación:  2019\n",
            "¿Leído?  True\n"
          ]
        }
      ],
      "source": [
        "#se creo una clase con el nombre libro\n",
        "class Libro:\n",
        "    def __init__(self, titulo, autor, anio):\n",
        "        self.titulo = titulo\n",
        "        self.autor = autor\n",
        "        self.anio = anio\n",
        "        self.leido = False\n",
        "\n",
        "    def leer(self):\n",
        "        self.leido = True\n",
        "\n",
        "    def get_titulo(self):\n",
        "        return self.titulo\n",
        "\n",
        "    def get_autor(self):\n",
        "        return self.autor\n",
        "\n",
        "    def get_anio(self):\n",
        "        return self.anio\n",
        "\n",
        "    def get_leido(self):\n",
        "        return self.leido\n",
        "\n",
        "# Crear un objeto de la clase Libro\n",
        "libro1 = Libro(\"La vida invisible de Addie la Rue\", \"V.E. Schwab\", 2019)\n",
        "\n",
        "# Leer el libro\n",
        "libro1.leer()\n",
        "\n",
        "# Mostrar detalles del libro\n",
        "print(\"Título: \", libro1.get_titulo())\n",
        "print(\"Autor: \", libro1.get_autor())\n",
        "print(\"Año de publicación: \", libro1.get_anio())\n",
        "print(\"¿Leído? \", libro1.get_leido())"
      ]
    }
  ]
}